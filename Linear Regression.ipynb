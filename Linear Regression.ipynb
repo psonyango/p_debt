{
 "cells": [
  {
   "cell_type": "markdown",
   "metadata": {},
   "source": [
    "# Simple Linear Regression"
   ]
  },
  {
   "cell_type": "code",
   "execution_count": 1,
   "metadata": {},
   "outputs": [],
   "source": [
    "import pandas as pd\n",
    "\n",
    "from sklearn.linear_model import LinearRegression\n",
    "from sklearn.model_selection import train_test_split\n",
    "from sklearn.metrics import r2_score\n",
    "\n",
    "%matplotlib inline"
   ]
  },
  {
   "cell_type": "code",
   "execution_count": 2,
   "metadata": {},
   "outputs": [
    {
     "name": "stdout",
     "output_type": "stream",
     "text": [
      "C:\\Users\\a198199\\Documents\\ML PROJECTS\\Statistical Learning Projects\\Linear Regression\n",
      " Volume in drive C is Windows\n",
      " Volume Serial Number is 1A05-7F5D\n",
      "\n",
      " Directory of C:\\Users\\a198199\\Documents\\ML PROJECTS\\Statistical Learning Projects\\Linear Regression\n",
      "\n",
      "2019/01/11  01:34 AM    <DIR>          .\n",
      "2019/01/11  01:34 AM    <DIR>          ..\n",
      "2019/01/09  09:42 PM    <DIR>          .ipynb_checkpoints\n",
      "2019/01/09  06:29 PM            25ÿ760 Domestic Debt by Instrument (Ksh Million).xlsx\n",
      "2019/01/11  01:34 AM             3ÿ008 Linear Regression.ipynb\n",
      "               2 File(s)         28ÿ768 bytes\n",
      "               3 Dir(s)  177ÿ496ÿ625ÿ152 bytes free\n"
     ]
    }
   ],
   "source": [
    "#%cd C:\\Users\\Peter\\Documents\\Machine Learning Projects\\Statistical Learning Projects\\Simple Linear Regression\n",
    "%cd C:\\Users\\a198199\\Documents\\ML PROJECTS\\Statistical Learning Projects\\Linear Regression\n",
    "%ls    "
   ]
  },
  {
   "cell_type": "code",
   "execution_count": 3,
   "metadata": {},
   "outputs": [
    {
     "data": {
      "text/html": [
       "<div>\n",
       "<style scoped>\n",
       "    .dataframe tbody tr th:only-of-type {\n",
       "        vertical-align: middle;\n",
       "    }\n",
       "\n",
       "    .dataframe tbody tr th {\n",
       "        vertical-align: top;\n",
       "    }\n",
       "\n",
       "    .dataframe thead th {\n",
       "        text-align: right;\n",
       "    }\n",
       "</style>\n",
       "<table border=\"1\" class=\"dataframe\">\n",
       "  <thead>\n",
       "    <tr style=\"text-align: right;\">\n",
       "      <th></th>\n",
       "      <th>Year</th>\n",
       "      <th>Month</th>\n",
       "      <th>Treasury Bills</th>\n",
       "      <th>Treasury Bonds</th>\n",
       "      <th>Government Stocks</th>\n",
       "      <th>Overdraft at Central Bank</th>\n",
       "      <th>Advances from Commercial Banks</th>\n",
       "      <th>Other Domestic Debt</th>\n",
       "      <th>Total Domestic Debt</th>\n",
       "    </tr>\n",
       "  </thead>\n",
       "  <tbody>\n",
       "    <tr>\n",
       "      <th>0</th>\n",
       "      <td>2018</td>\n",
       "      <td>September</td>\n",
       "      <td>967365.65</td>\n",
       "      <td>1528770.87</td>\n",
       "      <td>0.0</td>\n",
       "      <td>36290.51</td>\n",
       "      <td>7717.87</td>\n",
       "      <td>688.84</td>\n",
       "      <td>2540833.74</td>\n",
       "    </tr>\n",
       "    <tr>\n",
       "      <th>1</th>\n",
       "      <td>2018</td>\n",
       "      <td>August</td>\n",
       "      <td>945763.05</td>\n",
       "      <td>1524465.67</td>\n",
       "      <td>0.0</td>\n",
       "      <td>15055.18</td>\n",
       "      <td>7717.87</td>\n",
       "      <td>705.02</td>\n",
       "      <td>2493706.78</td>\n",
       "    </tr>\n",
       "    <tr>\n",
       "      <th>2</th>\n",
       "      <td>2018</td>\n",
       "      <td>July</td>\n",
       "      <td>969503.90</td>\n",
       "      <td>1509003.52</td>\n",
       "      <td>0.0</td>\n",
       "      <td>26340.05</td>\n",
       "      <td>7503.83</td>\n",
       "      <td>695.20</td>\n",
       "      <td>2513046.50</td>\n",
       "    </tr>\n",
       "    <tr>\n",
       "      <th>3</th>\n",
       "      <td>2018</td>\n",
       "      <td>June</td>\n",
       "      <td>901906.65</td>\n",
       "      <td>1511872.67</td>\n",
       "      <td>0.0</td>\n",
       "      <td>56849.24</td>\n",
       "      <td>7503.83</td>\n",
       "      <td>702.71</td>\n",
       "      <td>2478835.09</td>\n",
       "    </tr>\n",
       "    <tr>\n",
       "      <th>4</th>\n",
       "      <td>2018</td>\n",
       "      <td>May</td>\n",
       "      <td>862010.20</td>\n",
       "      <td>1533060.12</td>\n",
       "      <td>0.0</td>\n",
       "      <td>44353.23</td>\n",
       "      <td>7494.16</td>\n",
       "      <td>701.20</td>\n",
       "      <td>2447618.88</td>\n",
       "    </tr>\n",
       "  </tbody>\n",
       "</table>\n",
       "</div>"
      ],
      "text/plain": [
       "   Year      Month  Treasury Bills  Treasury Bonds  Government Stocks  \\\n",
       "0  2018  September       967365.65      1528770.87                0.0   \n",
       "1  2018     August       945763.05      1524465.67                0.0   \n",
       "2  2018       July       969503.90      1509003.52                0.0   \n",
       "3  2018       June       901906.65      1511872.67                0.0   \n",
       "4  2018        May       862010.20      1533060.12                0.0   \n",
       "\n",
       "   Overdraft at Central Bank  Advances from Commercial Banks  \\\n",
       "0                   36290.51                         7717.87   \n",
       "1                   15055.18                         7717.87   \n",
       "2                   26340.05                         7503.83   \n",
       "3                   56849.24                         7503.83   \n",
       "4                   44353.23                         7494.16   \n",
       "\n",
       "   Other Domestic Debt  Total Domestic Debt  \n",
       "0               688.84           2540833.74  \n",
       "1               705.02           2493706.78  \n",
       "2               695.20           2513046.50  \n",
       "3               702.71           2478835.09  \n",
       "4               701.20           2447618.88  "
      ]
     },
     "execution_count": 3,
     "metadata": {},
     "output_type": "execute_result"
    }
   ],
   "source": [
    "debt = pd.read_excel('Domestic Debt by Instrument (Ksh Million).xlsx')\n",
    "debt.head()"
   ]
  },
  {
   "cell_type": "markdown",
   "metadata": {},
   "source": [
    "## Simple Linear Regression"
   ]
  },
  {
   "cell_type": "code",
   "execution_count": 4,
   "metadata": {},
   "outputs": [
    {
     "name": "stdout",
     "output_type": "stream",
     "text": [
      "(223, 1)\n",
      "(223,)\n"
     ]
    }
   ],
   "source": [
    "X = debt[['Treasury Bills']]\n",
    "y = debt['Total Domestic Debt']\n",
    "\n",
    "print(X.shape)\n",
    "print(y.shape)"
   ]
  },
  {
   "cell_type": "code",
   "execution_count": 5,
   "metadata": {},
   "outputs": [
    {
     "name": "stdout",
     "output_type": "stream",
     "text": [
      "(167, 1)\n",
      "(167,)\n",
      "(56, 1)\n",
      "(56,)\n"
     ]
    }
   ],
   "source": [
    "\n",
    "X_train,X_test,y_train,y_test = train_test_split(X,y,random_state=42)\n",
    "\n",
    "print(X_train.shape)\n",
    "print(y_train.shape)\n",
    "print(X_test.shape)\n",
    "print(y_test.shape)"
   ]
  },
  {
   "cell_type": "code",
   "execution_count": 6,
   "metadata": {},
   "outputs": [
    {
     "name": "stdout",
     "output_type": "stream",
     "text": [
      "Coefficients:  [2.92043102]\n",
      "Intercept:  77406.73101881566\n"
     ]
    }
   ],
   "source": [
    "linreg = LinearRegression()\n",
    "\n",
    "linreg.fit(X_train,y_train)\n",
    "\n",
    "print ('Coefficients: ', linreg.coef_)\n",
    "print ('Intercept: ',linreg.intercept_)"
   ]
  },
  {
   "cell_type": "code",
   "execution_count": 7,
   "metadata": {},
   "outputs": [],
   "source": [
    "y_pred = linreg.predict(X_test)"
   ]
  },
  {
   "cell_type": "code",
   "execution_count": 8,
   "metadata": {},
   "outputs": [
    {
     "name": "stdout",
     "output_type": "stream",
     "text": [
      "The R2 Score is 0.8994954645541495\n"
     ]
    }
   ],
   "source": [
    "print('The R2 Score is {}'.format(r2_score(y_test,y_pred)))"
   ]
  },
  {
   "cell_type": "code",
   "execution_count": null,
   "metadata": {},
   "outputs": [],
   "source": []
  }
 ],
 "metadata": {
  "kernelspec": {
   "display_name": "Python 3",
   "language": "python",
   "name": "python3"
  },
  "language_info": {
   "codemirror_mode": {
    "name": "ipython",
    "version": 3
   },
   "file_extension": ".py",
   "mimetype": "text/x-python",
   "name": "python",
   "nbconvert_exporter": "python",
   "pygments_lexer": "ipython3",
   "version": "3.6.4"
  }
 },
 "nbformat": 4,
 "nbformat_minor": 2
}
